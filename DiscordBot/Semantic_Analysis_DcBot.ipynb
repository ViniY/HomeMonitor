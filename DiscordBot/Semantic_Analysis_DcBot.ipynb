{
  "nbformat": 4,
  "nbformat_minor": 0,
  "metadata": {
    "colab": {
      "name": "Semantic_Analysis_DcBot.ipynb",
      "provenance": []
    },
    "kernelspec": {
      "name": "python3",
      "display_name": "Python 3"
    },
    "language_info": {
      "name": "python"
    }
  },
  "cells": [
    {
      "cell_type": "code",
      "execution_count": 1,
      "metadata": {
        "id": "DodrLIabMzLs"
      },
      "outputs": [],
      "source": [
        "import pandas as pd\n",
        "import matplotlib.pyplot as plt\n"
      ]
    },
    {
      "cell_type": "code",
      "source": [
        "# This block will access the google drive with verification required\n",
        "from google.colab import drive\n",
        "drive.mount('/content/gdrive', force_remount = True)\n",
        "filePath = \"/content/gdrive/MyDrive/2013-8/sampled/testCase0.csv\"\n",
        "fileTrain = \"/content/gdrive/MyDrive/2013-8/full/full.csv\""
      ],
      "metadata": {
        "id": "YhaOFPVrNWB4"
      },
      "execution_count": null,
      "outputs": []
    }
  ]
}