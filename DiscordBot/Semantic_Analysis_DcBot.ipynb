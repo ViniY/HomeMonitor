{
  "nbformat": 4,
  "nbformat_minor": 0,
  "metadata": {
    "colab": {
      "name": "Semantic_Analysis_DcBot.ipynb",
      "provenance": []
    },
    "kernelspec": {
      "name": "python3",
      "display_name": "Python 3"
    },
    "language_info": {
      "name": "python"
    }
  },
  "cells": [
    {
      "cell_type": "code",
      "execution_count": null,
      "metadata": {
        "id": "DodrLIabMzLs"
      },
      "outputs": [],
      "source": [
        "import pandas as pd\n",
        "import matplotlib.pyplot as plt\n",
        "import os\n",
        "from sklearn.feature_extraction.text import TfidfVectorizer\n",
        "import numpy as np\n"
      ]
    },
    {
      "cell_type": "code",
      "source": [
        "# This block will access the google drive with verification required\n",
        "from google.colab import drive\n",
        "drive.mount('/content/gdrive', force_remount = True)\n",
        "folderPath = \"/content/gdrive/MyDrive/Nlp_FS_Semantic\""
      ],
      "metadata": {
        "colab": {
          "base_uri": "https://localhost:8080/"
        },
        "id": "YhaOFPVrNWB4",
        "outputId": "c9ebc608-4e13-4d74-f547-fa06f48f3ac5"
      },
      "execution_count": null,
      "outputs": [
        {
          "output_type": "stream",
          "name": "stdout",
          "text": [
            "Mounted at /content/gdrive\n"
          ]
        }
      ]
    },
    {
      "cell_type": "code",
      "source": [
        "for dirPath, dirNames, filenames in os.walk(folderPath):\n",
        "    filenames\n",
        "print(filenames)\n",
        "print(dirPath)\n",
        "print(dirNames)"
      ],
      "metadata": {
        "colab": {
          "base_uri": "https://localhost:8080/"
        },
        "id": "c7bqV6vhQLbG",
        "outputId": "74a2c340-9220-4140-9033-fc1e4eba0df2"
      },
      "execution_count": null,
      "outputs": [
        {
          "output_type": "stream",
          "name": "stdout",
          "text": [
            "['processedNeutral.csv', 'processedPositive.csv', 'processedNegative.csv']\n",
            "/content/gdrive/MyDrive/Nlp_FS_Semantic/processed\n",
            "[]\n"
          ]
        }
      ]
    },
    {
      "cell_type": "code",
      "source": [
        "df_Netural =  pd.read_csv(dirPath+'/'+filenames[0])\n",
        "df_Pos =  pd.read_csv(dirPath+'/'+filenames[1])\n",
        "df_Neg = pd.read_csv(dirPath+'/'+filenames[2])"
      ],
      "metadata": {
        "id": "yXhVcSGuQ9Ke"
      },
      "execution_count": null,
      "outputs": []
    },
    {
      "cell_type": "code",
      "source": [
        "df_Neg.head()"
      ],
      "metadata": {
        "colab": {
          "base_uri": "https://localhost:8080/",
          "height": 525
        },
        "id": "Yv5qq03USILb",
        "outputId": "9c65a89b-a74b-4fee-9a68-3195b8d24b58"
      },
      "execution_count": null,
      "outputs": [
        {
          "output_type": "execute_result",
          "data": {
            "text/html": [
              "\n",
              "  <div id=\"df-6d754b1a-34af-4d1e-b3c0-1b979587bd0b\">\n",
              "    <div class=\"colab-df-container\">\n",
              "      <div>\n",
              "<style scoped>\n",
              "    .dataframe tbody tr th:only-of-type {\n",
              "        vertical-align: middle;\n",
              "    }\n",
              "\n",
              "    .dataframe tbody tr th {\n",
              "        vertical-align: top;\n",
              "    }\n",
              "\n",
              "    .dataframe thead th {\n",
              "        text-align: right;\n",
              "    }\n",
              "</style>\n",
              "<table border=\"1\" class=\"dataframe\">\n",
              "  <thead>\n",
              "    <tr style=\"text-align: right;\">\n",
              "      <th></th>\n",
              "      <th>How unhappy  some dogs like it though</th>\n",
              "      <th>talking to my over driver about where I'm goinghe said he'd love to go to New York too but since Trump it's probably not</th>\n",
              "      <th>Does anybody know if the Rand's likely to fall against the dollar? I got some money  I need to change into R but it keeps getting stronger unhappy</th>\n",
              "      <th>I miss going to gigs in Liverpool unhappy</th>\n",
              "      <th>There isnt a new Riverdale tonight ? unhappy</th>\n",
              "      <th>it's that A*dy guy from pop Asia and then the translator so they'll probs go with them around Aus unhappy</th>\n",
              "      <th>Who's that chair you're sitting in? Is this how I find out. Everyone knows now. You've shamed me in pu</th>\n",
              "      <th>don't like how jittery caffeine makes me sad</th>\n",
              "      <th>My area's not on the list unhappy  think I'll go LibDems anyway</th>\n",
              "      <th>I want fun plans this weekend unhappy</th>\n",
              "      <th>When can you notice me.  unhappy  what?</th>\n",
              "      <th>Ahhhhh! You recognized LOGAN!!! Cinemax shows have a BAD track record for getting cancelled unhappy</th>\n",
              "      <th>Errr dude.... They're gone unhappy  Asked other league memeber to check  the guys are go</th>\n",
              "      <th>Not you again sad</th>\n",
              "      <th>Why would Harvey be going to prison? unhappy</th>\n",
              "      <th>Missing in crying  Seaside area.</th>\n",
              "      <th>Becoz if we will depend on your promoting its waste of hardwork to all team who</th>\n",
              "      <th>I thought you'll save me crying</th>\n",
              "      <th>major waffle cravings right now sad</th>\n",
              "      <th>cant speak japanese ::(</th>\n",
              "      <th>how can people do stuff like this unhappy</th>\n",
              "      <th>please just stop confining animals in zoos unhappy</th>\n",
              "      <th>Feel like i shoyould be telling you to get the fuck out social media byout also feel really mean because unhappy  silence  love yoyou hope yoyoure okay</th>\n",
              "      <th>i miss you huhu so busy unhappy</th>\n",
              "      <th>it was extended family. 12 ppl.ahh wanted to show a Oh My Girl being dorky while playing a game but it got deleted unhappy</th>\n",
              "      <th>Don't do that unhappy</th>\n",
              "      <th>Jamie can you please reset the CGa grandfinal server... no administrator are responding unhappy</th>\n",
              "      <th>noOoooooo YOU GONNA MISS THE BUFFET unhappy  TAKE CARE AIN!!!!!!!!!!!!!!!!!</th>\n",
              "      <th>I wish i could vote for you unhappy</th>\n",
              "      <th>instant message so jealous okay unhappy  but never mind haha bruno can wait finals first</th>\n",
              "      <th>when i'm enlisting can please turn up like this unhappy</th>\n",
              "      <th>unhappy  how come people like this have children where's the state intervention</th>\n",
              "      <th>Ouchhhhh unhappy</th>\n",
              "      <th>Help... I want to stop tweeting. All I feel is endless suffering and pain. I tried to deactivate myself many times... Save me... unhappy</th>\n",
              "      <th>For those asking</th>\n",
              "      <th>the application is Kana Kanji Funtime! Sadly</th>\n",
              "      <th>it looks like iOS 11 is due to kill it unhappy</th>\n",
              "      <th>Yeah did update to 16.04</th>\n",
              "      <th>it froze a few times. Then went to 16.10</th>\n",
              "      <th>froze mid install. Waited 3hrs he'd to pull plug crying</th>\n",
              "      <th>...</th>\n",
              "      <th>Sorry for no stream yesterday</th>\n",
              "      <th>I have a cold unhappy  we'll see how I feel today!</th>\n",
              "      <th>Wtf?! Where's the What is this boring show that's on?! When did this happen?? This is what happens when I close all week. unhappy</th>\n",
              "      <th>Back at it again with the matemticas unhappy</th>\n",
              "      <th>YG should have sent them to MCD. I want to see them holding the trophy unhappy  anyways .8</th>\n",
              "      <th>IM HUNGRY unhappy</th>\n",
              "      <th>I can't draw naked women crying</th>\n",
              "      <th>Hi Ashish! We've an update regarding your concern but your number was switched off unhappy  Please share another suitable time.. cont1</th>\n",
              "      <th>U blackmailed me unhappy</th>\n",
              "      <th>why am i not in aus with alisha unhappy  imagine the things we could be doing</th>\n",
              "      <th>When Jongin asked each members whether they have eaten and felt so wronged because they ate without him unhappy</th>\n",
              "      <th>instant message cramping sad</th>\n",
              "      <th>I hate losing online friends unhappy  it's cruel when people deactivate unhappy</th>\n",
              "      <th>Guys please help me retweet unhappy  .1</th>\n",
              "      <th>Pretty much only the Twitters and it doesn't really work out for me sad</th>\n",
              "      <th>the only appropriate ones i have unhappy</th>\n",
              "      <th>:'(( well</th>\n",
              "      <th>at least in my case it has not yet completely broken tho</th>\n",
              "      <th>but how about yours? unhappy</th>\n",
              "      <th>Nope unhappy</th>\n",
              "      <th>I miss Temperance Brennan and Seeley Booth so much unhappy .2</th>\n",
              "      <th>don%27t be surprised if you see me cry today</th>\n",
              "      <th>instant message in a lot of pain and the school doesnt allow my to have my pain meds unhappy</th>\n",
              "      <th>oh jeez.  i didn't even try taking a crack at it because i expected the build to be so bad</th>\n",
              "      <th>ha  unhappy</th>\n",
              "      <th>R.I.P Victoria Wood  heaven knows we're miserable now unhappy</th>\n",
              "      <th>That was a FUN night! Sorry I missed last night unhappy  We really need to sync our calendars with and</th>\n",
              "      <th>when will you notice me? unhappy</th>\n",
              "      <th>same unhappy</th>\n",
              "      <th>whats crazy is when i walked through them doors EVERY ADMINISTRATION + HER WAS THERE THAT NIGHT. so why are her a</th>\n",
              "      <th>and yet if parents invest in child's emotional education by taking child out of school on holiday early that's un</th>\n",
              "      <th>YG should have sent them to MCD. I want to see them holding the trophy unhappy  anyways .9</th>\n",
              "      <th>i want more orientation unhappy</th>\n",
              "      <th>unhappy  they not</th>\n",
              "      <th>YG should have sent them to MCD. I want to see them holding the trophy unhappy  anyways .10</th>\n",
              "      <th>wish knock out lang talaga for the new school year are good and cooperative groupmates please unhappy</th>\n",
              "      <th>i miss so much unhappy</th>\n",
              "      <th>Same unhappy .1</th>\n",
              "      <th>Hi instant message your friend  friend lang</th>\n",
              "      <th>hindi close friend? unhappy</th>\n",
              "    </tr>\n",
              "  </thead>\n",
              "  <tbody>\n",
              "  </tbody>\n",
              "</table>\n",
              "<p>0 rows × 1117 columns</p>\n",
              "</div>\n",
              "      <button class=\"colab-df-convert\" onclick=\"convertToInteractive('df-6d754b1a-34af-4d1e-b3c0-1b979587bd0b')\"\n",
              "              title=\"Convert this dataframe to an interactive table.\"\n",
              "              style=\"display:none;\">\n",
              "        \n",
              "  <svg xmlns=\"http://www.w3.org/2000/svg\" height=\"24px\"viewBox=\"0 0 24 24\"\n",
              "       width=\"24px\">\n",
              "    <path d=\"M0 0h24v24H0V0z\" fill=\"none\"/>\n",
              "    <path d=\"M18.56 5.44l.94 2.06.94-2.06 2.06-.94-2.06-.94-.94-2.06-.94 2.06-2.06.94zm-11 1L8.5 8.5l.94-2.06 2.06-.94-2.06-.94L8.5 2.5l-.94 2.06-2.06.94zm10 10l.94 2.06.94-2.06 2.06-.94-2.06-.94-.94-2.06-.94 2.06-2.06.94z\"/><path d=\"M17.41 7.96l-1.37-1.37c-.4-.4-.92-.59-1.43-.59-.52 0-1.04.2-1.43.59L10.3 9.45l-7.72 7.72c-.78.78-.78 2.05 0 2.83L4 21.41c.39.39.9.59 1.41.59.51 0 1.02-.2 1.41-.59l7.78-7.78 2.81-2.81c.8-.78.8-2.07 0-2.86zM5.41 20L4 18.59l7.72-7.72 1.47 1.35L5.41 20z\"/>\n",
              "  </svg>\n",
              "      </button>\n",
              "      \n",
              "  <style>\n",
              "    .colab-df-container {\n",
              "      display:flex;\n",
              "      flex-wrap:wrap;\n",
              "      gap: 12px;\n",
              "    }\n",
              "\n",
              "    .colab-df-convert {\n",
              "      background-color: #E8F0FE;\n",
              "      border: none;\n",
              "      border-radius: 50%;\n",
              "      cursor: pointer;\n",
              "      display: none;\n",
              "      fill: #1967D2;\n",
              "      height: 32px;\n",
              "      padding: 0 0 0 0;\n",
              "      width: 32px;\n",
              "    }\n",
              "\n",
              "    .colab-df-convert:hover {\n",
              "      background-color: #E2EBFA;\n",
              "      box-shadow: 0px 1px 2px rgba(60, 64, 67, 0.3), 0px 1px 3px 1px rgba(60, 64, 67, 0.15);\n",
              "      fill: #174EA6;\n",
              "    }\n",
              "\n",
              "    [theme=dark] .colab-df-convert {\n",
              "      background-color: #3B4455;\n",
              "      fill: #D2E3FC;\n",
              "    }\n",
              "\n",
              "    [theme=dark] .colab-df-convert:hover {\n",
              "      background-color: #434B5C;\n",
              "      box-shadow: 0px 1px 3px 1px rgba(0, 0, 0, 0.15);\n",
              "      filter: drop-shadow(0px 1px 2px rgba(0, 0, 0, 0.3));\n",
              "      fill: #FFFFFF;\n",
              "    }\n",
              "  </style>\n",
              "\n",
              "      <script>\n",
              "        const buttonEl =\n",
              "          document.querySelector('#df-6d754b1a-34af-4d1e-b3c0-1b979587bd0b button.colab-df-convert');\n",
              "        buttonEl.style.display =\n",
              "          google.colab.kernel.accessAllowed ? 'block' : 'none';\n",
              "\n",
              "        async function convertToInteractive(key) {\n",
              "          const element = document.querySelector('#df-6d754b1a-34af-4d1e-b3c0-1b979587bd0b');\n",
              "          const dataTable =\n",
              "            await google.colab.kernel.invokeFunction('convertToInteractive',\n",
              "                                                     [key], {});\n",
              "          if (!dataTable) return;\n",
              "\n",
              "          const docLinkHtml = 'Like what you see? Visit the ' +\n",
              "            '<a target=\"_blank\" href=https://colab.research.google.com/notebooks/data_table.ipynb>data table notebook</a>'\n",
              "            + ' to learn more about interactive tables.';\n",
              "          element.innerHTML = '';\n",
              "          dataTable['output_type'] = 'display_data';\n",
              "          await google.colab.output.renderOutput(dataTable, element);\n",
              "          const docLink = document.createElement('div');\n",
              "          docLink.innerHTML = docLinkHtml;\n",
              "          element.appendChild(docLink);\n",
              "        }\n",
              "      </script>\n",
              "    </div>\n",
              "  </div>\n",
              "  "
            ],
            "text/plain": [
              "Empty DataFrame\n",
              "Columns: [How unhappy  some dogs like it though, talking to my over driver about where I'm goinghe said he'd love to go to New York too but since Trump it's probably not, Does anybody know if the Rand's likely to fall against the dollar? I got some money  I need to change into R but it keeps getting stronger unhappy , I miss going to gigs in Liverpool unhappy , There isnt a new Riverdale tonight ? unhappy , it's that A*dy guy from pop Asia and then the translator so they'll probs go with them around Aus unhappy , Who's that chair you're sitting in? Is this how I find out. Everyone knows now. You've shamed me in pu, don't like how jittery caffeine makes me sad , My area's not on the list unhappy  think I'll go LibDems anyway, I want fun plans this weekend unhappy , When can you notice me.  unhappy  what?  , Ahhhhh! You recognized LOGAN!!! Cinemax shows have a BAD track record for getting cancelled unhappy , Errr dude.... They're gone unhappy  Asked other league memeber to check  the guys are go , Not you again sad  , Why would Harvey be going to prison? unhappy , Missing in crying  Seaside area. , Becoz if we will depend on your promoting its waste of hardwork to all team who , I thought you'll save me crying , major waffle cravings right now sad , cant speak japanese ::(, how can people do stuff like this unhappy  , please just stop confining animals in zoos unhappy  , Feel like i shoyould be telling you to get the fuck out social media byout also feel really mean because unhappy  silence  love yoyou hope yoyoure okay , i miss you huhu so busy unhappy , it was extended family. 12 ppl.ahh wanted to show a Oh My Girl being dorky while playing a game but it got deleted unhappy , Don't do that unhappy , Jamie can you please reset the CGa grandfinal server... no administrator are responding unhappy , noOoooooo YOU GONNA MISS THE BUFFET unhappy  TAKE CARE AIN!!!!!!!!!!!!!!!!! , I wish i could vote for you unhappy , instant message so jealous okay unhappy  but never mind haha bruno can wait finals first, when i'm enlisting can please turn up like this unhappy  , unhappy  how come people like this have children where's the state intervention , Ouchhhhh unhappy  , Help... I want to stop tweeting. All I feel is endless suffering and pain. I tried to deactivate myself many times... Save me... unhappy , For those asking,  the application is Kana Kanji Funtime! Sadly,  it looks like iOS 11 is due to kill it unhappy  , Yeah did update to 16.04 ,  it froze a few times. Then went to 16.10,  froze mid install. Waited 3hrs he'd to pull plug crying , Shaandaar,  Zabardast,  Another ATBB on it's way ! I wish Srk Sir starts signing good movies unhappy  , I want Jabee crying , sociopath full raid gear sad  , When will you say hi sunshine ? unhappy  , i feel bad for doing that AHAHA unhappy , it's getting harder and harder to stay unhappy , His face looks bloated unhappy  baby get well soon , fuck. tried changing my settings but still in india. unhappy , talking to my over driver about where I'm goinghe said he'd love to go to New York too but since Trump it's probably not.1, Let's not forget that it's also Gabriel Tenma White's birthday today!I miss unhappy  , Why am i always taken for granted eversince unhappy , Ah alright,  i don%27t know if you saw my comment yet,  but what camera you shooting with,  does it have flip out scr , I miss Louis' tweets unhappy , Koalas are dying of thirst  and it's all because of us unhappy  , okay I'll shut up now. instant message just mad that lots of people will now have a VERY flawed opinion on mental health ( on mine) because of this show unhappy , pamura isa because in this very moment,  i want to explode like a grenade to the point where people will die with me. sad , YG should have sent them to MCD. I want to see them holding the trophy unhappy  anyways , i really want one of those iconic jimin stripes turtleneck shirt unhappy , I want a spoons but I cant go unhappy  honestly feels like a messy break up unhappy , Makes me so sad unhappy  they looked so unhappy when I went to SeaWorld , YG should have sent them to MCD. I want to see them holding the trophy unhappy  anyways .1, I miss Rockys posts unhappy  , Hey Tony,  oh no unhappy  Could you please tell me a little more about your issue? Im following if youd prefer to DM. Amanda, i love mason and miss mason unhappy , Cold as a mother crusher right now. Nearing the end of April. sad , we don%27t talk anymore like we used to do unhappy , YG should have sent them to MCD. I want to see them holding the trophy unhappy  anyways .2, miss biking unhappy , I miss Big brother unhappy , 6 days in camp haiss miss you a lot unhappy , It's raining so hard unhappy , Am bored and kandowiandg I have ando plaands for today is makiandg me eveand more bored unhappy , oh my god not laurie penny unhappy , can you say Hi Mekisha? unhappy , I should never draw again unhappy , Cleantha , Visual Studio Installation - 89% .. BSOD comes suddenly unhappy , i want to make waffles unhappy , So sad unhappy  , crying  muh feels, Look like somethings i will ignore xD Kart Racing when? unhappy , did ate jenna just blocked me or what? unhappy , My bed is so comfortable I don't want to get up unhappy , Is that store still in use? If so,  I sincerely hope not too many priceless antiques were destroyed. Reg , Astaga unhappy  /? , I want a puppy now unhappy , have to work unhappy  but i'll see you tomorrow!! , happy weed day without them is not the same anymore unhappy , my favourite lipstick hilang crying , Time just flies,  can't believe he will be year for next year unhappy  We're becoming old HAHAHAH :v, The new Twitter reply view has me confused... like do I capitalise my replies to people or not? unhappy , ...]\n",
              "Index: []\n",
              "\n",
              "[0 rows x 1117 columns]"
            ]
          },
          "metadata": {},
          "execution_count": 19
        }
      ]
    },
    {
      "cell_type": "code",
      "source": [
        ""
      ],
      "metadata": {
        "id": "j8rJREQuSQC6"
      },
      "execution_count": null,
      "outputs": []
    }
  ]
}